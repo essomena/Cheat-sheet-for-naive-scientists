{
 "cells": [
  {
   "cell_type": "markdown",
   "id": "40f6fe74-4b0b-4bf3-938e-cea113cc7a20",
   "metadata": {},
   "source": [
    "## PostgreSQL for busy scientists"
   ]
  },
  {
   "cell_type": "markdown",
   "id": "a87a5ff1-a77d-4d23-9182-ee8814188598",
   "metadata": {},
   "source": [
    "Very useful functions are actually narrow. Some are long, while others are quite handful. Let's dive into useful functions in PostgreSQL."
   ]
  },
  {
   "cell_type": "markdown",
   "id": "d2ac8eeb-ce8b-425e-b694-469f85b11312",
   "metadata": {},
   "source": [
    "### `SELECT`"
   ]
  },
  {
   "cell_type": "code",
   "execution_count": null,
   "id": "6deff072-b854-450e-84b1-2f0141292b54",
   "metadata": {},
   "outputs": [],
   "source": []
  }
 ],
 "metadata": {
  "kernelspec": {
   "display_name": "Python [conda env:base] *",
   "language": "python",
   "name": "conda-base-py"
  },
  "language_info": {
   "codemirror_mode": {
    "name": "ipython",
    "version": 3
   },
   "file_extension": ".py",
   "mimetype": "text/x-python",
   "name": "python",
   "nbconvert_exporter": "python",
   "pygments_lexer": "ipython3",
   "version": "3.11.5"
  }
 },
 "nbformat": 4,
 "nbformat_minor": 5
}
