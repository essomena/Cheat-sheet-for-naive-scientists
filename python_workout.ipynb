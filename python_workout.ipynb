{
 "cells": [
  {
   "cell_type": "markdown",
   "id": "c33fcec5-c262-4428-8d49-ec543cdfb1f7",
   "metadata": {},
   "source": [
    "## Python workouts"
   ]
  },
  {
   "cell_type": "markdown",
   "id": "71107de9-6db6-4ea6-839b-3f9e6c13d228",
   "metadata": {},
   "source": [
    "### Set"
   ]
  },
  {
   "cell_type": "markdown",
   "id": "b8d4682d-4ba0-4e68-8e2e-0cebbefb9f8c",
   "metadata": {},
   "source": [
    "A Python set contains unique elements. For example, if you want a element to the set, use the command `add`. Below expressions are the same."
   ]
  },
  {
   "cell_type": "code",
   "execution_count": 23,
   "id": "ff135206-bb4b-4d9c-965a-b66c1ae3de4a",
   "metadata": {},
   "outputs": [],
   "source": [
    "nums = [1, 2, 3, 4, 5]\n",
    "unique_nums1 = set()\n",
    "\n",
    "for num in nums:\n",
    "    unique_nums1.add(num)"
   ]
  },
  {
   "cell_type": "code",
   "execution_count": 21,
   "id": "da390c0e-eeb8-4f2c-bbeb-bc1454ef1956",
   "metadata": {},
   "outputs": [],
   "source": [
    "unique_nums2 = set(nums)"
   ]
  },
  {
   "cell_type": "code",
   "execution_count": 25,
   "id": "5c40045f-fa64-4593-8dca-d7c301a3546e",
   "metadata": {},
   "outputs": [],
   "source": [
    "assert unique_nums1 == unique_nums2"
   ]
  },
  {
   "cell_type": "markdown",
   "id": "a9e51dff-0ab8-4636-b435-ebca1d5c42e2",
   "metadata": {},
   "source": [
    "But how about this?"
   ]
  },
  {
   "cell_type": "code",
   "execution_count": 28,
   "id": "c95a3b97-0018-41ad-8bdc-e6f79e10cf21",
   "metadata": {},
   "outputs": [
    {
     "ename": "TypeError",
     "evalue": "unhashable type: 'list'",
     "output_type": "error",
     "traceback": [
      "\u001b[0;31m---------------------------------------------------------------------------\u001b[0m",
      "\u001b[0;31mTypeError\u001b[0m                                 Traceback (most recent call last)",
      "Cell \u001b[0;32mIn[28], line 1\u001b[0m\n\u001b[0;32m----> 1\u001b[0m unique_nums3 \u001b[38;5;241m=\u001b[39m {nums}\n",
      "\u001b[0;31mTypeError\u001b[0m: unhashable type: 'list'"
     ]
    }
   ],
   "source": [
    "unique_nums3 = {nums}"
   ]
  },
  {
   "cell_type": "markdown",
   "id": "6ceffc67-77cb-4252-9e9c-3fb86a7821d1",
   "metadata": {},
   "source": [
    "Python set cannot contain a list for its element. One way to deal with this is using `*` operator."
   ]
  },
  {
   "cell_type": "code",
   "execution_count": 31,
   "id": "d1ce928d-95f1-4886-b538-8e714e6800b4",
   "metadata": {},
   "outputs": [],
   "source": [
    "unique_nums4 = {*nums}"
   ]
  },
  {
   "cell_type": "code",
   "execution_count": 35,
   "id": "81c7c083-c421-4596-81e9-6e6d8464badc",
   "metadata": {},
   "outputs": [],
   "source": [
    "assert unique_nums1 == unique_nums4"
   ]
  },
  {
   "cell_type": "markdown",
   "id": "40409544-ea93-424f-b4d0-f499588a0df3",
   "metadata": {},
   "source": [
    "### String operators"
   ]
  },
  {
   "cell_type": "code",
   "execution_count": 39,
   "id": "2dfd4a67-c5e6-448b-aa7d-47559060d181",
   "metadata": {},
   "outputs": [
    {
     "data": {
      "text/plain": [
       "True"
      ]
     },
     "execution_count": 39,
     "metadata": {},
     "output_type": "execute_result"
    }
   ],
   "source": [
    "s = 'abcde'\n",
    "\n",
    "s.startswith('a') # True\n",
    "s.endswith('de') # True"
   ]
  },
  {
   "cell_type": "code",
   "execution_count": 41,
   "id": "fcea6a57-a881-4dde-80b5-803cd625a061",
   "metadata": {},
   "outputs": [
    {
     "data": {
      "text/plain": [
       "'       \\t\\t a   c d'"
      ]
     },
     "execution_count": 41,
     "metadata": {},
     "output_type": "execute_result"
    }
   ],
   "source": [
    "s = '       \\t\\t a   c d \\t\\n     '\n",
    "\n",
    "s.strip()     # 'a    c d'\n",
    "s.lstrip()    # 'a    c d \\t\\n     '\n",
    "s.rstrip()    # '       \\t\\t a    c d'"
   ]
  },
  {
   "cell_type": "code",
   "execution_count": null,
   "id": "0fd38f71-4ac5-4325-bda3-a132b7be25ee",
   "metadata": {},
   "outputs": [],
   "source": []
  }
 ],
 "metadata": {
  "kernelspec": {
   "display_name": "Python [conda env:base] *",
   "language": "python",
   "name": "conda-base-py"
  },
  "language_info": {
   "codemirror_mode": {
    "name": "ipython",
    "version": 3
   },
   "file_extension": ".py",
   "mimetype": "text/x-python",
   "name": "python",
   "nbconvert_exporter": "python",
   "pygments_lexer": "ipython3",
   "version": "3.11.5"
  }
 },
 "nbformat": 4,
 "nbformat_minor": 5
}
